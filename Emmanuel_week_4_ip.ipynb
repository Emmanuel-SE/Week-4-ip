{
  "nbformat": 4,
  "nbformat_minor": 0,
  "metadata": {
    "colab": {
      "name": "Emmanuel week 4 ip",
      "private_outputs": true,
      "provenance": [],
      "authorship_tag": "ABX9TyO2K2yecl91tJ/3W/tKan9m",
      "include_colab_link": true
    },
    "kernelspec": {
      "name": "python3",
      "display_name": "Python 3"
    },
    "language_info": {
      "name": "python"
    }
  },
  "cells": [
    {
      "cell_type": "markdown",
      "metadata": {
        "id": "view-in-github",
        "colab_type": "text"
      },
      "source": [
        "<a href=\"https://colab.research.google.com/github/Tyty-manu/Week-4-ip/blob/main/Emmanuel_week_4_ip.ipynb\" target=\"_parent\"><img src=\"https://colab.research.google.com/assets/colab-badge.svg\" alt=\"Open In Colab\"/></a>"
      ]
    },
    {
      "cell_type": "code",
      "metadata": {
        "id": "TNTcmmtoWUZh"
      },
      "source": [
        "#iporting libraries to be used\n",
        "\n",
        "import pandas as pd\n",
        "import numpy as np\n"
      ],
      "execution_count": null,
      "outputs": []
    },
    {
      "cell_type": "code",
      "metadata": {
        "id": "uXES-FG6XF1P"
      },
      "source": [
        "#reading our csv file\n",
        "df=pd.read_csv('autolib.csv')\n",
        "df"
      ],
      "execution_count": null,
      "outputs": []
    },
    {
      "cell_type": "code",
      "metadata": {
        "id": "Hkx2dznqYauU"
      },
      "source": [
        "#data cleaning\n",
        "# here we could drop columns and rows that have Na cells and also columns thst we wont really use for our analysis.\n",
        "#essencially to make our work short and easyly comprehendable\n",
        "#1st droping columns , Unimportant ones and ones with Nan values\n",
        "#df.isnull()\n",
        "#df.isnull().any()\n",
        "df= df.dropna(axis=1)\n",
        "#df=df.drop(['Cars'], axis=1)\n",
        "df.head(15)"
      ],
      "execution_count": null,
      "outputs": []
    },
    {
      "cell_type": "code",
      "metadata": {
        "id": "-drIVlre6opG"
      },
      "source": [
        "#we can aslo drop rows whose rental status is none operational\n",
        "index_rental = df[ df['Rental status'] == 'broken' ].index\n",
        "df.drop(index_names, inplace = True)\n",
        "df.head(14)"
      ],
      "execution_count": null,
      "outputs": []
    },
    {
      "cell_type": "code",
      "metadata": {
        "id": "jnvE7f0HkwvM"
      },
      "source": [
        "#we can export the dataframe into a csv\n",
        "df.to_csv('IP_WK4.csv',index=False)\n"
      ],
      "execution_count": null,
      "outputs": []
    },
    {
      "cell_type": "code",
      "metadata": {
        "id": "xw-LAkoblX6j"
      },
      "source": [
        "#We can also use sql for further data cleaning \n",
        "# We will first load the sql extension into our environment\n",
        "%load_ext sql\n",
        "\n",
        "# Then connect to our in memory sqlite database\n",
        "# NB: This database will cease to exist as soon as the database connection is closed. \n",
        "%sql sqlite://"
      ],
      "execution_count": null,
      "outputs": []
    },
    {
      "cell_type": "code",
      "metadata": {
        "id": "9ZRzzC4ao-K6"
      },
      "source": [
        "# Loading our table from the respective CSV files \n",
        "with open('IP_WK4.csv','r') as f:\n",
        "    IP_WK4 = pd.read_csv(f, index_col=0, encoding='utf-8')\n",
        "# saving the IP_WK4 CSV file into a database\n",
        "%sql DROP TABLE if EXISTS IP_WK4;\n",
        "%sql PERSIST IP_WK4;\n",
        "\n",
        "\n",
        "%sql SELECT * FROM IP_WK4 LIMIT 60;"
      ],
      "execution_count": null,
      "outputs": []
    },
    {
      "cell_type": "code",
      "metadata": {
        "id": "VayAHLhOsXpQ"
      },
      "source": [
        "#We can filter out other cities and remain with paris as our case study city and put results into new table \n",
        "%%sql\n",
        "create table re_ip as\n",
        "select * from IP_WK4\n",
        "where City='Paris'\n"
      ],
      "execution_count": null,
      "outputs": []
    },
    {
      "cell_type": "code",
      "metadata": {
        "id": "F749DnUnPOdr"
      },
      "source": [
        "#we can find cummulative difference in the cars column to see if its negative or positive \n",
        "#negative suggesting a car pick up/hire \n",
        "#positive meaning a car return \n",
        "#the result pushed into anew column Cumulative_difference\n",
        "%%sql\n",
        "select ID,hours minutes ,\n",
        "Cars - LAG(Cars) over (order by ID) as Cumulative_difference\n",
        "from  re_ip\n",
        " "
      ],
      "execution_count": null,
      "outputs": []
    }
  ]
}